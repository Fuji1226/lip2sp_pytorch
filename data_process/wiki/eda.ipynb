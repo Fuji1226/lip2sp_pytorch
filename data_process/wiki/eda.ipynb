{
 "cells": [
  {
   "cell_type": "code",
   "execution_count": 22,
   "metadata": {},
   "outputs": [],
   "source": [
    "from pathlib import Path\n",
    "import xml.etree.ElementTree as et\n",
    "import unicodedata\n",
    "import re\n",
    "from tqdm import tqdm\n",
    "import pyopenjtalk\n",
    "import MeCab\n",
    "import pandas as pd\n",
    "import matplotlib.pyplot as plt\n",
    "import seaborn as sns\n",
    "sns.set_style(\"whitegrid\")"
   ]
  },
  {
   "cell_type": "code",
   "execution_count": 23,
   "metadata": {},
   "outputs": [],
   "source": [
    "class CustomMeCabTagger(MeCab.Tagger):\n",
    "\n",
    "    COLUMNS = ['hyousou', 'hinnshi', 'hinnshi_sai1', 'hinnshi_sai2', 'hinnshi_sai3', 'katuyou_kata', 'katuyou_kei', 'gennkeki', 'yomi', 'hatuonn']\n",
    "\n",
    "    def parseToDataFrame(self, text: str) -> pd.DataFrame:\n",
    "        \"\"\"テキストを parse した結果を Pandas DataFrame として返す\"\"\"\n",
    "        results = []\n",
    "        for line in self.parse(text).split('\\n'):\n",
    "            if line == 'EOS':\n",
    "                break\n",
    "            surface, feature = line.split('\\t')\n",
    "            feature = [None if f == '*' else f for f in feature.split(',')]\n",
    "            results.append([surface, *feature])\n",
    "        return pd.DataFrame(results, columns=type(self).COLUMNS)"
   ]
  },
  {
   "cell_type": "code",
   "execution_count": 24,
   "metadata": {},
   "outputs": [],
   "source": [
    "def is_japanese(text):\n",
    "    japanese_pattern = re.compile(\"[\\u3000-\\u303F\\u3040-\\u309F\\u30A0-\\u30FF\\uFF65-\\uFF9F\\u4E00-\\u9FAF\\u3400-\\u4DBF]\")\n",
    "    return bool(japanese_pattern.search(text))"
   ]
  },
  {
   "cell_type": "code",
   "execution_count": 25,
   "metadata": {},
   "outputs": [
    {
     "name": "stderr",
     "output_type": "stream",
     "text": [
      "100%|██████████| 3784/3784 [02:13<00:00, 28.33it/s]\n"
     ]
    }
   ],
   "source": [
    "data_dir = Path('/home/minami/wiki_ja/text_fixed')\n",
    "data_path_list = list(data_dir.glob('**/wiki_*'))\n",
    "mecab = CustomMeCabTagger('-d /usr/lib/x86_64-linux-gnu/mecab/dic/mecab-ipadic-neologd')\n",
    "text_len_list = []\n",
    "for data_path in tqdm(data_path_list):\n",
    "    tree = et.parse(str(data_path))\n",
    "    root = tree.getroot()\n",
    "    doc_list = root.findall('doc')\n",
    "    for doc in doc_list:\n",
    "        text = unicodedata.normalize('NFKC', doc.text)\n",
    "        text = text.replace('\\n', '')\n",
    "        text = re.sub(r'[“”]', '', text)\n",
    "        text = re.sub(r'https?:\\/\\/.*?[\\r\\n ]', '', text)\n",
    "        if len(text) < 30 or not is_japanese(text):\n",
    "            continue\n",
    "        text_len_list.append(len(text))"
   ]
  },
  {
   "cell_type": "code",
   "execution_count": 26,
   "metadata": {},
   "outputs": [
    {
     "data": {
      "image/png": "[encoded data removed]",
      "text/plain": [
       "<Figure size 1200x400 with 1 Axes>"
      ]
     },
     "metadata": {},
     "output_type": "display_data"
    }
   ],
   "source": [
    "plt.figure(figsize=(12, 4))\n",
    "plt.hist(text_len_list, bins=1000)\n",
    "plt.show()"
   ]
  },
  {
   "cell_type": "code",
   "execution_count": 27,
   "metadata": {},
   "outputs": [
    {
     "data": {
      "text/html": [
       "<div>\n",
       "<style scoped>\n",
       "    .dataframe tbody tr th:only-of-type {\n",
       "        vertical-align: middle;\n",
       "    }\n",
       "\n",
       "    .dataframe tbody tr th {\n",
       "        vertical-align: top;\n",
       "    }\n",
       "\n",
       "    .dataframe thead th {\n",
       "        text-align: right;\n",
       "    }\n",
       "</style>\n",
       "<table border=\"1\" class=\"dataframe\">\n",
       "  <thead>\n",
       "    <tr style=\"text-align: right;\">\n",
       "      <th></th>\n",
       "      <th>text_len</th>\n",
       "    </tr>\n",
       "  </thead>\n",
       "  <tbody>\n",
       "    <tr>\n",
       "      <th>count</th>\n",
       "      <td>1.337085e+06</td>\n",
       "    </tr>\n",
       "    <tr>\n",
       "      <th>mean</th>\n",
       "      <td>9.926473e+02</td>\n",
       "    </tr>\n",
       "    <tr>\n",
       "      <th>std</th>\n",
       "      <td>2.076637e+03</td>\n",
       "    </tr>\n",
       "    <tr>\n",
       "      <th>min</th>\n",
       "      <td>3.000000e+01</td>\n",
       "    </tr>\n",
       "    <tr>\n",
       "      <th>25%</th>\n",
       "      <td>2.090000e+02</td>\n",
       "    </tr>\n",
       "    <tr>\n",
       "      <th>50%</th>\n",
       "      <td>4.600000e+02</td>\n",
       "    </tr>\n",
       "    <tr>\n",
       "      <th>75%</th>\n",
       "      <td>1.003000e+03</td>\n",
       "    </tr>\n",
       "    <tr>\n",
       "      <th>max</th>\n",
       "      <td>2.340480e+05</td>\n",
       "    </tr>\n",
       "  </tbody>\n",
       "</table>\n",
       "</div>"
      ],
      "text/plain": [
       "           text_len\n",
       "count  1.337085e+06\n",
       "mean   9.926473e+02\n",
       "std    2.076637e+03\n",
       "min    3.000000e+01\n",
       "25%    2.090000e+02\n",
       "50%    4.600000e+02\n",
       "75%    1.003000e+03\n",
       "max    2.340480e+05"
      ]
     },
     "execution_count": 27,
     "metadata": {},
     "output_type": "execute_result"
    }
   ],
   "source": [
    "pd.DataFrame(\n",
    "    {\n",
    "        'text_len': text_len_list,\n",
    "    }\n",
    ").describe()"
   ]
  }
 ],
 "metadata": {
  "kernelspec": {
   "display_name": ".venv",
   "language": "python",
   "name": "python3"
  },
  "language_info": {
   "codemirror_mode": {
    "name": "ipython",
    "version": 3
   },
   "file_extension": ".py",
   "mimetype": "text/x-python",
   "name": "python",
   "nbconvert_exporter": "python",
   "pygments_lexer": "ipython3",
   "version": "3.8.12"
  }
 },
 "nbformat": 4,
 "nbformat_minor": 2
}
