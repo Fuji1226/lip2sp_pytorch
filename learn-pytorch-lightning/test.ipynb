{
 "cells": [
  {
   "cell_type": "code",
   "execution_count": 12,
   "metadata": {},
   "outputs": [
    {
     "name": "stderr",
     "output_type": "stream",
     "text": [
      "Exception in thread Exception in threading.excepthook:\n",
      "Exception ignored in thread started by: <bound method Thread._bootstrap of <Thread(Thread-27 (_run_job), stopped 129177034413632)>>\n",
      "Traceback (most recent call last):\n",
      "  File \"/home/minami/.pyenv/versions/3.11.4/lib/python3.11/threading.py\", line 995, in _bootstrap\n",
      "    self._bootstrap_inner()\n",
      "  File \"/home/minami/.pyenv/versions/3.11.4/lib/python3.11/threading.py\", line 1040, in _bootstrap_inner\n",
      "    self._invoke_excepthook(self)\n",
      "  File \"/home/minami/.pyenv/versions/3.11.4/lib/python3.11/threading.py\", line 1352, in invoke_excepthook\n",
      "    local_print(\"Exception in threading.excepthook:\",\n",
      "  File \"/home/minami/lip2sp_pytorch/.venv/lib/python3.11/site-packages/ipykernel/iostream.py\", line 604, in flush\n",
      "    self.pub_thread.schedule(self._flush)\n",
      "  File \"/home/minami/lip2sp_pytorch/.venv/lib/python3.11/site-packages/ipykernel/iostream.py\", line 267, in schedule\n",
      "    self._event_pipe.send(b\"\")\n",
      "  File \"/home/minami/lip2sp_pytorch/.venv/lib/python3.11/site-packages/zmq/sugar/socket.py\", line 696, in send\n",
      "    return super().send(data, flags=flags, copy=copy, track=track)\n",
      "           ^^^^^^^^^^^^^^^^^^^^^^^^^^^^^^^^^^^^^^^^^^^^^^^^^^^^^^^\n",
      "  File \"zmq/backend/cython/socket.pyx\", line 742, in zmq.backend.cython.socket.Socket.send\n",
      "  File \"zmq/backend/cython/socket.pyx\", line 783, in zmq.backend.cython.socket.Socket.send\n",
      "  File \"zmq/backend/cython/socket.pyx\", line 138, in zmq.backend.cython.socket._check_closed\n",
      "zmq.error.ZMQError: Socket operation on non-socket\n",
      "Exception ignored in: <function _MultiProcessingDataLoaderIter.__del__ at 0x757ca45dc540>\n",
      "Traceback (most recent call last):\n",
      "  File \"/home/minami/lip2sp_pytorch/.venv/lib/python3.11/site-packages/torch/utils/data/dataloader.py\", line 1478, in __del__\n",
      "    self._shutdown_workers()\n",
      "  File \"/home/minami/lip2sp_pytorch/.venv/lib/python3.11/site-packages/torch/utils/data/dataloader.py\", line 1436, in _shutdown_workers\n",
      "    if self._persistent_workers or self._workers_status[worker_id]:\n",
      "                                   ^^^^^^^^^^^^^^^^^^^^\n",
      "AttributeError: '_MultiProcessingDataLoaderIter' object has no attribute '_workers_status'\n",
      "Exception ignored in sys.unraisablehook: <built-in function unraisablehook>\n",
      "Traceback (most recent call last):\n",
      "  File \"/home/minami/lip2sp_pytorch/.venv/lib/python3.11/site-packages/ipykernel/iostream.py\", line 604, in flush\n",
      "    self.pub_thread.schedule(self._flush)\n",
      "  File \"/home/minami/lip2sp_pytorch/.venv/lib/python3.11/site-packages/ipykernel/iostream.py\", line 267, in schedule\n",
      "    self._event_pipe.send(b\"\")\n",
      "  File \"/home/minami/lip2sp_pytorch/.venv/lib/python3.11/site-packages/zmq/sugar/socket.py\", line 696, in send\n",
      "    return super().send(data, flags=flags, copy=copy, track=track)\n",
      "           ^^^^^^^^^^^^^^^^^^^^^^^^^^^^^^^^^^^^^^^^^^^^^^^^^^^^^^^\n",
      "  File \"zmq/backend/cython/socket.pyx\", line 742, in zmq.backend.cython.socket.Socket.send\n",
      "  File \"zmq/backend/cython/socket.pyx\", line 783, in zmq.backend.cython.socket.Socket.send\n",
      "  File \"zmq/backend/cython/socket.pyx\", line 138, in zmq.backend.cython.socket._check_closed\n",
      "zmq.error.ZMQError: Socket operation on non-socket\n",
      "Exception ignored in sys.unraisablehook: <built-in function unraisablehook>\n",
      "Traceback (most recent call last):\n",
      "  File \"/home/minami/lip2sp_pytorch/.venv/lib/python3.11/site-packages/ipykernel/iostream.py\", line 604, in flush\n",
      "    self.pub_thread.schedule(self._flush)\n",
      "  File \"/home/minami/lip2sp_pytorch/.venv/lib/python3.11/site-packages/ipykernel/iostream.py\", line 267, in schedule\n",
      "    self._event_pipe.send(b\"\")\n",
      "  File \"/home/minami/lip2sp_pytorch/.venv/lib/python3.11/site-packages/zmq/sugar/socket.py\", line 696, in send\n",
      "    return super().send(data, flags=flags, copy=copy, track=track)\n",
      "           ^^^^^^^^^^^^^^^^^^^^^^^^^^^^^^^^^^^^^^^^^^^^^^^^^^^^^^^\n",
      "  File \"zmq/backend/cython/socket.pyx\", line 742, in zmq.backend.cython.socket.Socket.send\n",
      "  File \"zmq/backend/cython/socket.pyx\", line 783, in zmq.backend.cython.socket.Socket.send\n",
      "  File \"zmq/backend/cython/socket.pyx\", line 138, in zmq.backend.cython.socket._check_closed\n",
      "zmq.error.ZMQError: Socket operation on non-socket\n"
     ]
    },
    {
     "name": "stderr",
     "output_type": "stream",
     "text": [
      "\u001b[34m\u001b[1mwandb\u001b[0m: \u001b[33mWARNING\u001b[0m Calling wandb.login() after wandb.init() has no effect.\n",
      "/home/minami/lip2sp_pytorch/.venv/lib/python3.11/site-packages/hydra/_internal/defaults_list.py:251: UserWarning: In 'config': Defaults list is missing `_self_`. See https://hydra.cc/docs/1.2/upgrades/1.0_to_1.1/default_composition_order for more information\n",
      "  warnings.warn(msg, UserWarning)\n"
     ]
    }
   ],
   "source": [
    "import os\n",
    "from test import Decoder, Encoder, LitAutoEncoder\n",
    "\n",
    "import dotenv\n",
    "import hydra\n",
    "import lightning as L\n",
    "import omegaconf\n",
    "import torch\n",
    "import torch.utils.data as data\n",
    "import yaml\n",
    "from lightning.pytorch.callbacks import ModelCheckpoint\n",
    "from lightning.pytorch.callbacks.early_stopping import EarlyStopping\n",
    "from pytorch_lightning.loggers import WandbLogger\n",
    "from torch.utils.data import DataLoader\n",
    "from torchvision import datasets, transforms\n",
    "\n",
    "import wandb\n",
    "\n",
    "dotenv.load_dotenv(dotenv_path=\"../.env\")\n",
    "wandb.login(key=os.environ[\"WANDB_API_KEY\"])\n",
    "\n",
    "with hydra.initialize(version_base=None, config_path=\"./conf-2\"):\n",
    "    cfg = hydra.compose(config_name=\"config\")"
   ]
  },
  {
   "cell_type": "code",
   "execution_count": 13,
   "metadata": {},
   "outputs": [],
   "source": [
    "def main():\n",
    "    torch.set_float32_matmul_precision(\"medium\")\n",
    "\n",
    "    transform = transforms.ToTensor()\n",
    "    train_set = datasets.MNIST(\n",
    "        root=\"MNIST\", download=True, train=True, transform=transform\n",
    "    )\n",
    "    test_set = datasets.MNIST(\n",
    "        root=\"MNIST\", download=True, train=False, transform=transform\n",
    "    )\n",
    "\n",
    "    train_set_size = int(len(train_set) * 0.8)\n",
    "    valid_set_size = len(train_set) - train_set_size\n",
    "\n",
    "    seed = torch.Generator().manual_seed(42)\n",
    "    train_set, valid_set = data.random_split(\n",
    "        train_set, [train_set_size, valid_set_size], generator=seed\n",
    "    )\n",
    "\n",
    "    train_loader = DataLoader(\n",
    "        train_set,\n",
    "        num_workers=cfg[\"app\"][\"num_workers\"],\n",
    "        batch_size=cfg[\"app\"][\"batch_size\"],\n",
    "    )\n",
    "    valid_loader = DataLoader(\n",
    "        valid_set,\n",
    "        num_workers=cfg[\"app\"][\"num_workers\"],\n",
    "        batch_size=cfg[\"app\"][\"batch_size\"],\n",
    "    )\n",
    "    test_loader = DataLoader(test_set, num_workers=cfg[\"app\"][\"num_workers\"])\n",
    "\n",
    "    autoencoder = LitAutoEncoder(Encoder(cfg), Decoder(cfg), cfg)\n",
    "\n",
    "    wandb_logger = WandbLogger(\n",
    "        project=\"pytorch-lightning-test\",\n",
    "        # name=\"test\",\n",
    "        log_model=True,\n",
    "        config=omegaconf.OmegaConf.to_container(\n",
    "            cfg, resolve=True, throw_on_missing=True\n",
    "        ),\n",
    "        settings=wandb.Settings(start_method=\"thread\"),\n",
    "        # group=\"group-test-sweep-1\",\n",
    "    )\n",
    "\n",
    "    trainer = L.Trainer(\n",
    "        default_root_dir=\"./\",\n",
    "        max_epochs=20,\n",
    "        callbacks=[\n",
    "            EarlyStopping(monitor=\"val_loss\", mode=\"min\", patience=3),\n",
    "            ModelCheckpoint(monitor=\"val_loss\", mode=\"min\", save_last=True),\n",
    "        ],\n",
    "        # fast_dev_run=10,\n",
    "        limit_train_batches=1.0,\n",
    "        limit_val_batches=1.0,\n",
    "        limit_test_batches=1.0,\n",
    "        profiler=None,\n",
    "        logger=wandb_logger,\n",
    "    )\n",
    "    trainer.fit(\n",
    "        model=autoencoder,\n",
    "        train_dataloaders=train_loader,\n",
    "        val_dataloaders=valid_loader,\n",
    "    )"
   ]
  },
  {
   "cell_type": "code",
   "execution_count": 14,
   "metadata": {},
   "outputs": [
    {
     "name": "stderr",
     "output_type": "stream",
     "text": [
      "\u001b[34m\u001b[1mwandb\u001b[0m: \u001b[33mWARNING\u001b[0m Calling wandb.login() after wandb.init() has no effect.\n"
     ]
    },
    {
     "name": "stdout",
     "output_type": "stream",
     "text": [
      "Create sweep with ID: rqhvpmwb\n",
      "Sweep URL: https://wandb.ai/minami373/pytorch-lightning-test/sweeps/rqhvpmwb\n"
     ]
    },
    {
     "name": "stderr",
     "output_type": "stream",
     "text": [
      "\u001b[34m\u001b[1mwandb\u001b[0m: Ctrl + C detected. Stopping sweep.\n"
     ]
    }
   ],
   "source": [
    "with open(\"sweep_grid.yaml\", \"r\") as f:\n",
    "    sweep_cfg = f.read()\n",
    "sweep_cfg = yaml.safe_load(sweep_cfg)\n",
    "if 'command' in sweep_cfg.keys():\n",
    "    del sweep_cfg[\"command\"]\n",
    "sweep_id = wandb.sweep(sweep=sweep_cfg)\n",
    "wandb.agent(sweep_id, function=main)"
   ]
  }
 ],
 "metadata": {
  "kernelspec": {
   "display_name": ".venv",
   "language": "python",
   "name": "python3"
  },
  "language_info": {
   "codemirror_mode": {
    "name": "ipython",
    "version": 3
   },
   "file_extension": ".py",
   "mimetype": "text/x-python",
   "name": "python",
   "nbconvert_exporter": "python",
   "pygments_lexer": "ipython3",
   "version": "3.11.4"
  }
 },
 "nbformat": 4,
 "nbformat_minor": 2
}
